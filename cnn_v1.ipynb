{
 "cells": [
  {
   "cell_type": "markdown",
   "metadata": {},
   "source": [
    "# Preprocessing the data"
   ]
  },
  {
   "cell_type": "code",
   "execution_count": 9,
   "metadata": {},
   "outputs": [],
   "source": [
    "# Das Notebook basiert auf diesem Turoial:\n",
    "# https://www.analyticsvidhya.com/blog/2019/09/step-by-step-deep-learning-tutorial-video-classification-python/"
   ]
  },
  {
   "cell_type": "code",
   "execution_count": 22,
   "metadata": {},
   "outputs": [],
   "source": [
    "# imports\n",
    "import cv2     # for capturing videos\n",
    "import math   # for mathematical operations\n",
    "import matplotlib.pyplot as plt\n",
    "%matplotlib inline\n",
    "import pandas as pd\n",
    "from keras.preprocessing import image   # for preprocessing the images\n",
    "import numpy as np    # for mathematical operations\n",
    "from keras.utils import np_utils\n",
    "#from skimage.transform import resize   # for resizing images\n",
    "from sklearn.model_selection import train_test_split\n",
    "from glob import glob\n",
    "from tqdm import tqdm\n",
    "from sklearn.metrics import classification_report"
   ]
  },
  {
   "cell_type": "code",
   "execution_count": 8,
   "metadata": {},
   "outputs": [],
   "source": [
    "# preprocessing training labels\n",
    "labels_df = pd.read_csv('material/labels.csv', sep=';')\n",
    "\n",
    "# deleting videos with changing perspectives\n",
    "labels_df = labels_df.drop(labels_df.loc[labels_df['Wechsel'] == True].index)\n",
    "labels_df = labels_df.reset_index()\n",
    "\n",
    "# droping unused columns:\n",
    "labels_df.drop(columns=['index','Wechsel','ID'], inplace=True)\n",
    "labels_df.rename(columns={'Camera Position (Side/Front/Upwards/Downwards)':'labels'}, inplace=True)"
   ]
  },
  {
   "cell_type": "code",
   "execution_count": 10,
   "metadata": {},
   "outputs": [
    {
     "name": "stderr",
     "output_type": "stream",
     "text": [
      "100%|██████████| 101/101 [00:43<00:00,  2.32it/s]\n"
     ]
    }
   ],
   "source": [
    "# storing the frames from training videos\n",
    "for i in tqdm(range(labels_df.shape[0])):\n",
    "    count = 0\n",
    "    videoFile = labels_df['NameOfFile'][i]\n",
    "    cap = cv2.VideoCapture('material/raw_training_videos/'+videoFile)   # capturing the video from the given path\n",
    "    frameRate = cap.get(5) #frame rate\n",
    "    #print(frameRate)\n",
    "    x=1\n",
    "    while(cap.isOpened()):\n",
    "        frameId = cap.get(1) #current frame number\n",
    "        #print(frameId)\n",
    "        ret, frame = cap.read()\n",
    "        if (ret != True):\n",
    "            break\n",
    "        #if (frameId % math.floor(frameRate) == 0):\n",
    "            # storing the frames in a new folder named train_frames\n",
    "        else:\n",
    "            filename ='material/train_frames/' + videoFile +\"_frame%d.jpg\" % count;count+=1\n",
    "            cv2.imwrite(filename, frame)\n",
    "    cap.release()"
   ]
  },
  {
   "cell_type": "code",
   "execution_count": 21,
   "metadata": {},
   "outputs": [
    {
     "name": "stderr",
     "output_type": "stream",
     "text": [
      "100%|██████████| 8300/8300 [00:01<00:00, 5651.36it/s]\n"
     ]
    }
   ],
   "source": [
    "# getting the names of all the images\n",
    "images = glob(\"material/train_frames/*.jpg\")\n",
    "train_image = []\n",
    "train_class = []\n",
    "for i in tqdm(range(len(images))):\n",
    "    # creating the image name\n",
    "    name = images[i].split('/')[2].split('_f')[0]\n",
    "    #print(name)\n",
    "    train_image.append(images[i].split('/')[2])\n",
    "    # creating the class of image\n",
    "    train_class.append(labels_df['labels'].loc[labels_df['NameOfFile'] == name].values[0])\n",
    "    \n",
    "# storing the images and their class in a dataframe\n",
    "train_data = pd.DataFrame()\n",
    "train_data['image'] = train_image\n",
    "train_data['class'] = train_class\n",
    "\n",
    "# converting the dataframe into csv file \n",
    "train_data.to_csv('material/train_frames.csv',header=True, index=False)"
   ]
  },
  {
   "cell_type": "markdown",
   "metadata": {},
   "source": [
    "# Training the model starts here"
   ]
  },
  {
   "cell_type": "code",
   "execution_count": 1,
   "metadata": {},
   "outputs": [],
   "source": [
    "#imports\n",
    "import keras\n",
    "from keras.models import Sequential\n",
    "from keras.applications.vgg16 import VGG16\n",
    "from keras.layers import Dense, InputLayer, Dropout, Flatten\n",
    "from keras.layers import Conv2D, MaxPooling2D, GlobalMaxPooling2D\n",
    "from keras.preprocessing import image\n",
    "import numpy as np\n",
    "import pandas as pd\n",
    "import matplotlib.pyplot as plt\n",
    "from tqdm import tqdm\n",
    "from sklearn.model_selection import train_test_split"
   ]
  },
  {
   "cell_type": "code",
   "execution_count": 2,
   "metadata": {},
   "outputs": [],
   "source": [
    "# read in csv with labels for frames\n",
    "train = pd.read_csv('material/train_frames.csv')"
   ]
  },
  {
   "cell_type": "code",
   "execution_count": 3,
   "metadata": {},
   "outputs": [
    {
     "name": "stderr",
     "output_type": "stream",
     "text": [
      "100%|██████████| 8300/8300 [02:35<00:00, 53.52it/s]\n"
     ]
    },
    {
     "data": {
      "text/plain": [
       "(8300, 480, 640, 3)"
      ]
     },
     "execution_count": 3,
     "metadata": {},
     "output_type": "execute_result"
    }
   ],
   "source": [
    "# reading in all the frames and saving them to a numpy array\n",
    "\n",
    "# creating an empty list\n",
    "train_image = []\n",
    "\n",
    "# for loop to read and store frames\n",
    "for i in tqdm(range(train.shape[0])):\n",
    "    # loading the image and keeping the image size (480, 640, 3)\n",
    "    '''\n",
    "    TO DO:\n",
    "    finde heraus was die ideale input größe der bilder ist. \n",
    "    '''\n",
    "    img = image.load_img('material/train_frames/'+train['image'][i], target_size=(480, 640, 3))\n",
    "    # converting it to array\n",
    "    img = image.img_to_array(img)\n",
    "    # normalizing the pixel value\n",
    "    '''\n",
    "    TO DO:\n",
    "    finde heraus was die optimale normalisierung der Bild daten ist\n",
    "    '''\n",
    "    img = img/480\n",
    "    # appending the image to the train_image list\n",
    "    train_image.append(img)\n",
    "    \n",
    "# converting the list to numpy array\n",
    "X = np.array(train_image)\n",
    "\n",
    "# shape of the array\n",
    "X.shape"
   ]
  },
  {
   "cell_type": "code",
   "execution_count": 4,
   "metadata": {},
   "outputs": [],
   "source": [
    "# creating train and test set\n",
    "\n",
    "# separating the target\n",
    "y = train['class']\n",
    "\n",
    "# creating the training and validation set\n",
    "X_train, X_test, y_train, y_test = train_test_split(X, y, random_state=42, test_size=0.2, stratify = y)"
   ]
  },
  {
   "cell_type": "code",
   "execution_count": 5,
   "metadata": {},
   "outputs": [],
   "source": [
    "# creating dummies of target variable for train and validation set\n",
    "y_train = pd.get_dummies(y_train)\n",
    "y_test = pd.get_dummies(y_test)"
   ]
  },
  {
   "cell_type": "markdown",
   "metadata": {},
   "source": [
    "### Defining the architecture of the model"
   ]
  },
  {
   "cell_type": "code",
   "execution_count": 6,
   "metadata": {},
   "outputs": [],
   "source": [
    "# creating the base model of pre-trained VGG16 model\n",
    "'''\n",
    "TO DO: \n",
    "finde heraus wie ein Model performt, welches von \"scratch\" creiert wird\n",
    "'''\n",
    "base_model = VGG16(weights='imagenet', include_top=False)"
   ]
  },
  {
   "cell_type": "code",
   "execution_count": 7,
   "metadata": {},
   "outputs": [
    {
     "name": "stdout",
     "output_type": "stream",
     "text": [
      "Model: \"vgg16\"\n",
      "_________________________________________________________________\n",
      "Layer (type)                 Output Shape              Param #   \n",
      "=================================================================\n",
      "input_1 (InputLayer)         [(None, None, None, 3)]   0         \n",
      "_________________________________________________________________\n",
      "block1_conv1 (Conv2D)        (None, None, None, 64)    1792      \n",
      "_________________________________________________________________\n",
      "block1_conv2 (Conv2D)        (None, None, None, 64)    36928     \n",
      "_________________________________________________________________\n",
      "block1_pool (MaxPooling2D)   (None, None, None, 64)    0         \n",
      "_________________________________________________________________\n",
      "block2_conv1 (Conv2D)        (None, None, None, 128)   73856     \n",
      "_________________________________________________________________\n",
      "block2_conv2 (Conv2D)        (None, None, None, 128)   147584    \n",
      "_________________________________________________________________\n",
      "block2_pool (MaxPooling2D)   (None, None, None, 128)   0         \n",
      "_________________________________________________________________\n",
      "block3_conv1 (Conv2D)        (None, None, None, 256)   295168    \n",
      "_________________________________________________________________\n",
      "block3_conv2 (Conv2D)        (None, None, None, 256)   590080    \n",
      "_________________________________________________________________\n",
      "block3_conv3 (Conv2D)        (None, None, None, 256)   590080    \n",
      "_________________________________________________________________\n",
      "block3_pool (MaxPooling2D)   (None, None, None, 256)   0         \n",
      "_________________________________________________________________\n",
      "block4_conv1 (Conv2D)        (None, None, None, 512)   1180160   \n",
      "_________________________________________________________________\n",
      "block4_conv2 (Conv2D)        (None, None, None, 512)   2359808   \n",
      "_________________________________________________________________\n",
      "block4_conv3 (Conv2D)        (None, None, None, 512)   2359808   \n",
      "_________________________________________________________________\n",
      "block4_pool (MaxPooling2D)   (None, None, None, 512)   0         \n",
      "_________________________________________________________________\n",
      "block5_conv1 (Conv2D)        (None, None, None, 512)   2359808   \n",
      "_________________________________________________________________\n",
      "block5_conv2 (Conv2D)        (None, None, None, 512)   2359808   \n",
      "_________________________________________________________________\n",
      "block5_conv3 (Conv2D)        (None, None, None, 512)   2359808   \n",
      "_________________________________________________________________\n",
      "block5_pool (MaxPooling2D)   (None, None, None, 512)   0         \n",
      "=================================================================\n",
      "Total params: 14,714,688\n",
      "Trainable params: 14,714,688\n",
      "Non-trainable params: 0\n",
      "_________________________________________________________________\n",
      "None\n"
     ]
    }
   ],
   "source": [
    "print(base_model.summary())"
   ]
  },
  {
   "cell_type": "code",
   "execution_count": 8,
   "metadata": {},
   "outputs": [
    {
     "name": "stdout",
     "output_type": "stream",
     "text": [
      "CPU times: user 1min 9s, sys: 1min 11s, total: 2min 20s\n",
      "Wall time: 1min 57s\n"
     ]
    },
    {
     "data": {
      "text/plain": [
       "(6640, 15, 20, 512)"
      ]
     },
     "execution_count": 8,
     "metadata": {},
     "output_type": "execute_result"
    }
   ],
   "source": [
    "%%time\n",
    "# extracting features for training frames\n",
    "\n",
    "X_train = base_model.predict(X_train)\n",
    "X_train.shape"
   ]
  },
  {
   "cell_type": "code",
   "execution_count": 9,
   "metadata": {},
   "outputs": [
    {
     "name": "stdout",
     "output_type": "stream",
     "text": [
      "CPU times: user 21.4 s, sys: 10.1 s, total: 31.6 s\n",
      "Wall time: 24.8 s\n"
     ]
    },
    {
     "data": {
      "text/plain": [
       "(1660, 15, 20, 512)"
      ]
     },
     "execution_count": 9,
     "metadata": {},
     "output_type": "execute_result"
    }
   ],
   "source": [
    "%%time\n",
    "# extracting features for validation frames\n",
    "\n",
    "X_test = base_model.predict(X_test)\n",
    "X_test.shape"
   ]
  },
  {
   "cell_type": "code",
   "execution_count": 10,
   "metadata": {},
   "outputs": [],
   "source": [
    "# reshaping the training as well as validation frames in single dimension\n",
    "\n",
    "X_train = X_train.reshape(6640, 15*20*512)\n",
    "X_test = X_test.reshape(1660, 15*20*512)"
   ]
  },
  {
   "cell_type": "code",
   "execution_count": 11,
   "metadata": {},
   "outputs": [
    {
     "name": "stdout",
     "output_type": "stream",
     "text": [
      "CPU times: user 1 s, sys: 534 ms, total: 1.54 s\n",
      "Wall time: 1.55 s\n"
     ]
    }
   ],
   "source": [
    "%%time\n",
    "# normalizing the pixel values\n",
    "\n",
    "max = X_train.max()\n",
    "X_train = X_train/max\n",
    "X_test = X_test/max"
   ]
  },
  {
   "cell_type": "code",
   "execution_count": 12,
   "metadata": {},
   "outputs": [
    {
     "data": {
      "text/plain": [
       "(6640, 153600)"
      ]
     },
     "execution_count": 12,
     "metadata": {},
     "output_type": "execute_result"
    }
   ],
   "source": [
    "# shape of images\n",
    "X_train.shape"
   ]
  },
  {
   "cell_type": "code",
   "execution_count": 13,
   "metadata": {},
   "outputs": [],
   "source": [
    "#defining the model architecture\n",
    "model = Sequential()\n",
    "model.add(Dense(1024, activation='relu', input_shape=(153600,)))\n",
    "model.add(Dropout(0.5))\n",
    "model.add(Dense(512, activation='relu'))\n",
    "model.add(Dropout(0.5))\n",
    "model.add(Dense(256, activation='relu'))\n",
    "model.add(Dropout(0.5))\n",
    "model.add(Dense(128, activation='relu'))\n",
    "model.add(Dropout(0.5))\n",
    "model.add(Dense(4, activation='softmax'))"
   ]
  },
  {
   "cell_type": "code",
   "execution_count": 14,
   "metadata": {},
   "outputs": [
    {
     "name": "stdout",
     "output_type": "stream",
     "text": [
      "Model: \"sequential\"\n",
      "_________________________________________________________________\n",
      "Layer (type)                 Output Shape              Param #   \n",
      "=================================================================\n",
      "dense (Dense)                (None, 1024)              157287424 \n",
      "_________________________________________________________________\n",
      "dropout (Dropout)            (None, 1024)              0         \n",
      "_________________________________________________________________\n",
      "dense_1 (Dense)              (None, 512)               524800    \n",
      "_________________________________________________________________\n",
      "dropout_1 (Dropout)          (None, 512)               0         \n",
      "_________________________________________________________________\n",
      "dense_2 (Dense)              (None, 256)               131328    \n",
      "_________________________________________________________________\n",
      "dropout_2 (Dropout)          (None, 256)               0         \n",
      "_________________________________________________________________\n",
      "dense_3 (Dense)              (None, 128)               32896     \n",
      "_________________________________________________________________\n",
      "dropout_3 (Dropout)          (None, 128)               0         \n",
      "_________________________________________________________________\n",
      "dense_4 (Dense)              (None, 4)                 516       \n",
      "=================================================================\n",
      "Total params: 157,976,964\n",
      "Trainable params: 157,976,964\n",
      "Non-trainable params: 0\n",
      "_________________________________________________________________\n",
      "None\n"
     ]
    }
   ],
   "source": [
    "print(model.summary())"
   ]
  },
  {
   "cell_type": "code",
   "execution_count": 15,
   "metadata": {},
   "outputs": [],
   "source": [
    "# defining a function to save the weights of best model\n",
    "from keras.callbacks import ModelCheckpoint\n",
    "mcp_save = ModelCheckpoint('weight_v1.1.hdf5', save_best_only=True, monitor='val_loss', mode='min')"
   ]
  },
  {
   "cell_type": "code",
   "execution_count": 16,
   "metadata": {},
   "outputs": [],
   "source": [
    "# compiling the model\n",
    "model.compile(loss='categorical_crossentropy',optimizer='Adam',metrics=['accuracy'])"
   ]
  },
  {
   "cell_type": "markdown",
   "metadata": {},
   "source": [
    "### Model wird hier trainiert"
   ]
  },
  {
   "cell_type": "code",
   "execution_count": 17,
   "metadata": {},
   "outputs": [
    {
     "name": "stdout",
     "output_type": "stream",
     "text": [
      "Epoch 1/25\n",
      "52/52 [==============================] - 4s 86ms/step - loss: 1.1858 - accuracy: 0.5373 - val_loss: 0.4648 - val_accuracy: 0.8765\n",
      "Epoch 2/25\n",
      "52/52 [==============================] - 18s 353ms/step - loss: 0.2581 - accuracy: 0.9059 - val_loss: 0.0820 - val_accuracy: 0.9608\n",
      "Epoch 3/25\n",
      "52/52 [==============================] - 18s 354ms/step - loss: 0.0926 - accuracy: 0.9592 - val_loss: 0.0364 - val_accuracy: 0.9958\n",
      "Epoch 4/25\n",
      "52/52 [==============================] - 18s 354ms/step - loss: 0.0608 - accuracy: 0.9801 - val_loss: 0.0090 - val_accuracy: 1.0000\n",
      "Epoch 5/25\n",
      "52/52 [==============================] - 18s 354ms/step - loss: 0.0446 - accuracy: 0.9854 - val_loss: 0.0082 - val_accuracy: 1.0000\n",
      "Epoch 6/25\n",
      "52/52 [==============================] - 18s 354ms/step - loss: 0.0299 - accuracy: 0.9922 - val_loss: 8.1736e-04 - val_accuracy: 1.0000\n",
      "Epoch 7/25\n",
      "52/52 [==============================] - 2s 47ms/step - loss: 0.0750 - accuracy: 0.9780 - val_loss: 0.0080 - val_accuracy: 0.9988\n",
      "Epoch 8/25\n",
      "52/52 [==============================] - 2s 46ms/step - loss: 0.0506 - accuracy: 0.9810 - val_loss: 9.2331e-04 - val_accuracy: 1.0000\n",
      "Epoch 9/25\n",
      "52/52 [==============================] - 19s 358ms/step - loss: 0.0341 - accuracy: 0.9878 - val_loss: 2.6850e-04 - val_accuracy: 1.0000\n",
      "Epoch 10/25\n",
      "52/52 [==============================] - 2s 46ms/step - loss: 0.0313 - accuracy: 0.9886 - val_loss: 3.3026e-04 - val_accuracy: 1.0000\n",
      "Epoch 11/25\n",
      "52/52 [==============================] - 18s 352ms/step - loss: 0.0390 - accuracy: 0.9872 - val_loss: 1.0415e-04 - val_accuracy: 1.0000\n",
      "Epoch 12/25\n",
      "52/52 [==============================] - 18s 354ms/step - loss: 0.0325 - accuracy: 0.9878 - val_loss: 2.9427e-05 - val_accuracy: 1.0000\n",
      "Epoch 13/25\n",
      "52/52 [==============================] - 18s 353ms/step - loss: 0.0281 - accuracy: 0.9904 - val_loss: 2.7516e-05 - val_accuracy: 1.0000\n",
      "Epoch 14/25\n",
      "52/52 [==============================] - 2s 46ms/step - loss: 0.0264 - accuracy: 0.9925 - val_loss: 7.3958e-05 - val_accuracy: 1.0000\n",
      "Epoch 15/25\n",
      "52/52 [==============================] - 2s 47ms/step - loss: 0.0356 - accuracy: 0.9898 - val_loss: 3.7750e-05 - val_accuracy: 1.0000\n",
      "Epoch 16/25\n",
      "52/52 [==============================] - 2s 46ms/step - loss: 0.0406 - accuracy: 0.9851 - val_loss: 1.0967e-04 - val_accuracy: 1.0000\n",
      "Epoch 17/25\n",
      "52/52 [==============================] - 2s 47ms/step - loss: 0.0266 - accuracy: 0.9907 - val_loss: 1.9003e-04 - val_accuracy: 1.0000\n",
      "Epoch 18/25\n",
      "52/52 [==============================] - 19s 363ms/step - loss: 0.0179 - accuracy: 0.9941 - val_loss: 8.2343e-06 - val_accuracy: 1.0000\n",
      "Epoch 19/25\n",
      "52/52 [==============================] - 18s 353ms/step - loss: 0.0181 - accuracy: 0.9938 - val_loss: 3.5590e-06 - val_accuracy: 1.0000\n",
      "Epoch 20/25\n",
      "52/52 [==============================] - 2s 47ms/step - loss: 0.0183 - accuracy: 0.9941 - val_loss: 1.8295e-05 - val_accuracy: 1.0000\n",
      "Epoch 21/25\n",
      "52/52 [==============================] - 2s 46ms/step - loss: 0.0348 - accuracy: 0.9893 - val_loss: 1.5925e-04 - val_accuracy: 1.0000\n",
      "Epoch 22/25\n",
      "52/52 [==============================] - 2s 46ms/step - loss: 0.0285 - accuracy: 0.9913 - val_loss: 6.6830e-06 - val_accuracy: 1.0000\n",
      "Epoch 23/25\n",
      "52/52 [==============================] - 2s 47ms/step - loss: 0.0230 - accuracy: 0.9929 - val_loss: 6.7109e-06 - val_accuracy: 1.0000\n",
      "Epoch 24/25\n",
      "52/52 [==============================] - 2s 47ms/step - loss: 0.0285 - accuracy: 0.9904 - val_loss: 1.2482e-04 - val_accuracy: 1.0000\n",
      "Epoch 25/25\n",
      "52/52 [==============================] - 2s 45ms/step - loss: 0.0268 - accuracy: 0.9899 - val_loss: 6.0336e-06 - val_accuracy: 1.0000\n",
      "CPU times: user 2min 53s, sys: 1min 44s, total: 4min 37s\n",
      "Wall time: 4min 2s\n"
     ]
    }
   ],
   "source": [
    "%%time\n",
    "# training the model \n",
    "\n",
    "version1 = model.fit(X_train, y_train, epochs=25, validation_data=(X_test, y_test), callbacks=[mcp_save], batch_size=128)"
   ]
  },
  {
   "cell_type": "code",
   "execution_count": 18,
   "metadata": {},
   "outputs": [
    {
     "data": {
      "image/png": "[encoded data removed]",
      "text/plain": [
       "<Figure size 432x288 with 1 Axes>"
      ]
     },
     "metadata": {
      "needs_background": "light"
     },
     "output_type": "display_data"
    },
    {
     "data": {
      "image/png": "[encoded data removed]",
      "text/plain": [
       "<Figure size 432x288 with 1 Axes>"
      ]
     },
     "metadata": {
      "needs_background": "light"
     },
     "output_type": "display_data"
    }
   ],
   "source": [
    "# plot training history\n",
    "#  \"Accuracy\"\n",
    "plt.plot(version1.history['accuracy'])\n",
    "plt.plot(version1.history['val_accuracy'])\n",
    "plt.title('model accuracy')\n",
    "plt.ylabel('accuracy')\n",
    "plt.xlabel('epoch')\n",
    "plt.legend(['train', 'validation'])\n",
    "plt.show()\n",
    "# \"Loss\"\n",
    "plt.plot(version1.history['loss'])\n",
    "plt.plot(version1.history['val_loss'])\n",
    "plt.title('model loss')\n",
    "plt.ylabel('loss')\n",
    "plt.xlabel('epoch')\n",
    "plt.legend(['train', 'validation']) #loc='lower right'\n",
    "plt.show()"
   ]
  },
  {
   "cell_type": "code",
   "execution_count": 19,
   "metadata": {},
   "outputs": [
    {
     "name": "stdout",
     "output_type": "stream",
     "text": [
      "208/208 [==============================] - 2s 8ms/step - loss: 1.7507e-06 - accuracy: 1.0000\n"
     ]
    },
    {
     "data": {
      "text/plain": [
       "[1.7507190932519734e-06, 1.0]"
      ]
     },
     "execution_count": 19,
     "metadata": {},
     "output_type": "execute_result"
    }
   ],
   "source": [
    "model.evaluate(X_train, y_train)"
   ]
  },
  {
   "cell_type": "code",
   "execution_count": 20,
   "metadata": {},
   "outputs": [
    {
     "data": {
      "text/plain": [
       "0.9941264986991882"
      ]
     },
     "execution_count": 20,
     "metadata": {},
     "output_type": "execute_result"
    }
   ],
   "source": [
    "acc = version1.history['accuracy']\n",
    "np.amax(acc)"
   ]
  },
  {
   "cell_type": "code",
   "execution_count": 23,
   "metadata": {},
   "outputs": [
    {
     "name": "stdout",
     "output_type": "stream",
     "text": [
      "[INFO] evaluating network...\n",
      "              precision    recall  f1-score   support\n",
      "\n",
      "   downwards       1.00      1.00      1.00       221\n",
      "       front       1.00      1.00      1.00       467\n",
      "        side       1.00      1.00      1.00       892\n",
      "     upwards       1.00      1.00      1.00        80\n",
      "\n",
      "    accuracy                           1.00      1660\n",
      "   macro avg       1.00      1.00      1.00      1660\n",
      "weighted avg       1.00      1.00      1.00      1660\n",
      "\n"
     ]
    }
   ],
   "source": [
    "print(\"[INFO] evaluating network...\")\n",
    "y_test_numeric = y_test.rename(columns={\"downwards\": 0, \"front\": 1, \"side\": 2, \"upwards\": 3})\n",
    "predictions = model.predict(x=X_test, batch_size=128)\n",
    "print(classification_report(y_test_numeric.idxmax(axis=\"columns\").values,\n",
    "                            predictions.argmax(axis=1), target_names=['downwards', 'front', 'side', 'upwards']))"
   ]
  },
  {
   "cell_type": "markdown",
   "metadata": {},
   "source": [
    "# Evaluating our Video Classification Model"
   ]
  },
  {
   "cell_type": "markdown",
   "metadata": {},
   "source": [
    "## Defining Model architecture and loading weights"
   ]
  },
  {
   "cell_type": "code",
   "execution_count": 1,
   "metadata": {},
   "outputs": [],
   "source": [
    "# imports\n",
    "from keras.models import Sequential\n",
    "from keras.layers import Dense, Dropout, Flatten\n",
    "from keras.layers import Conv2D, MaxPooling2D\n",
    "from keras.preprocessing import image\n",
    "import numpy as np\n",
    "import pandas as pd\n",
    "from tqdm import tqdm\n",
    "from keras.applications.vgg16 import VGG16\n",
    "import cv2\n",
    "import math\n",
    "import os\n",
    "from glob import glob\n",
    "from scipy import stats as s"
   ]
  },
  {
   "cell_type": "code",
   "execution_count": 2,
   "metadata": {},
   "outputs": [],
   "source": [
    "# base pretrained model\n",
    "base_model = VGG16(weights='imagenet', include_top=False)"
   ]
  },
  {
   "cell_type": "code",
   "execution_count": 3,
   "metadata": {},
   "outputs": [],
   "source": [
    "#defining the model architecture\n",
    "model = Sequential()\n",
    "model.add(Dense(1024, activation='relu', input_shape=(153600,)))\n",
    "model.add(Dropout(0.5))\n",
    "model.add(Dense(512, activation='relu'))\n",
    "model.add(Dropout(0.5))\n",
    "model.add(Dense(256, activation='relu'))\n",
    "model.add(Dropout(0.5))\n",
    "model.add(Dense(128, activation='relu'))\n",
    "model.add(Dropout(0.5))\n",
    "model.add(Dense(4, activation='softmax'))"
   ]
  },
  {
   "cell_type": "code",
   "execution_count": 4,
   "metadata": {},
   "outputs": [],
   "source": [
    "# loading the trained weights\n",
    "model.load_weights(\"weight_v1.hdf5\")\n",
    "\n",
    "# compiling the model\n",
    "model.compile(loss='categorical_crossentropy',optimizer='Adam',metrics=['accuracy'])"
   ]
  },
  {
   "cell_type": "markdown",
   "metadata": {},
   "source": [
    "## Generating predictions for all test videos"
   ]
  },
  {
   "cell_type": "code",
   "execution_count": 28,
   "metadata": {},
   "outputs": [],
   "source": [
    "# reading in test labels for verification later\n",
    "train = pd.read_csv('material/test_labels.csv', sep=';')\n",
    "\n",
    "# creating the dummy tags\n",
    "trainLabel = pd.read_csv('material/train_frames.csv')\n",
    "y = trainLabel['class']\n",
    "y = pd.get_dummies(y)"
   ]
  },
  {
   "cell_type": "code",
   "execution_count": 29,
   "metadata": {},
   "outputs": [
    {
     "name": "stderr",
     "output_type": "stream",
     "text": [
      "100%|██████████| 24/24 [01:23<00:00,  3.47s/it]\n"
     ]
    }
   ],
   "source": [
    "# creating two lists to store predicted and actual tags\n",
    "predict = []\n",
    "actual = []\n",
    "\n",
    "# for loop to extract frames from each test video\n",
    "for i in tqdm(range(train['NameOfFile'].shape[0])):\n",
    "    count = 0\n",
    "    videoFile = train['NameOfFile'][i]\n",
    "    cap = cv2.VideoCapture('material/raw_test_videos/'+videoFile)   # capturing the video from the given path\n",
    "    frameRate = cap.get(5) #frame rate\n",
    "    \n",
    "    # removing all other files from the temp folder\n",
    "    files = glob('temp/*')\n",
    "    for f in files:\n",
    "        os.remove(f)\n",
    "    while(cap.isOpened()):\n",
    "        frameId = cap.get(1) #current frame number\n",
    "        ret, frame = cap.read()\n",
    "        if (ret != True):\n",
    "            break\n",
    "        #if (frameId % math.floor(frameRate) == 0):\n",
    "            # storing the frames of this particular video in temp folder\n",
    "        else:\n",
    "            filename ='temp/' + \"_frame%d.jpg\" % count;count+=1\n",
    "            cv2.imwrite(filename, frame)\n",
    "    cap.release()\n",
    "    \n",
    "    # reading all the frames from temp folder\n",
    "    images = glob(\"temp/*.jpg\")\n",
    "    \n",
    "    prediction_images = []\n",
    "    for i in range(len(images)):\n",
    "        img = image.load_img(images[i], target_size=(480, 640, 3))\n",
    "        img = image.img_to_array(img)\n",
    "        img = img/480\n",
    "        prediction_images.append(img)\n",
    "    \n",
    "    # converting all the frames for a test video into numpy array\n",
    "    prediction_images = np.array(prediction_images)\n",
    "    \n",
    "    # extracting features using pre-trained model\n",
    "    prediction_images = base_model.predict(prediction_images)\n",
    "    \n",
    "    # converting features in one dimensional array\n",
    "    prediction_images = prediction_images.reshape(prediction_images.shape[0], 15*20*512)\n",
    "    \n",
    "    # predicting tags for each array\n",
    "    # predicting tags for each array\n",
    "    prediction = (model.predict(prediction_images) > 0.5).astype(\"int32\")\n",
    "    predictFrame = []\n",
    "    for pre in prediction:\n",
    "        if pre[0] == 1:\n",
    "            predictFrame.append('downwards')\n",
    "        elif pre[1] == 1:\n",
    "            predictFrame.append('front')\n",
    "        elif pre[2] == 1:\n",
    "            predictFrame.append('side')\n",
    "        else:\n",
    "            predictFrame.append('upwards')\n",
    "\n",
    "    # appending the mode of predictions in predict list to assign the tag to the video\n",
    "    predict.append(s.mode(predictFrame)[0][0])\n",
    "    \n",
    "    # appending the actual tag of the video\n",
    "    actual.append(train['label'].loc[train['NameOfFile'] == videoFile].values[0])"
   ]
  },
  {
   "cell_type": "code",
   "execution_count": 30,
   "metadata": {},
   "outputs": [
    {
     "data": {
      "text/plain": [
       "100.0"
      ]
     },
     "execution_count": 30,
     "metadata": {},
     "output_type": "execute_result"
    }
   ],
   "source": [
    "# checking the accuracy of the predicted tags\n",
    "from sklearn.metrics import accuracy_score\n",
    "accuracy_score(predict, actual)*100"
   ]
  },
  {
   "cell_type": "code",
   "execution_count": 14,
   "metadata": {},
   "outputs": [],
   "source": [
    "# predict"
   ]
  },
  {
   "cell_type": "code",
   "execution_count": 15,
   "metadata": {},
   "outputs": [],
   "source": [
    "# actual"
   ]
  },
  {
   "cell_type": "markdown",
   "metadata": {},
   "source": [
    "# Evaluate Model by looking at Frame prediction"
   ]
  },
  {
   "cell_type": "code",
   "execution_count": 5,
   "metadata": {},
   "outputs": [],
   "source": [
    "# reading in test labels for verification later\n",
    "train = pd.read_csv('material/test_labels.csv', sep=';')\n",
    "\n",
    "# creating the dummy tags\n",
    "trainLabel = pd.read_csv('material/train_frames.csv')\n",
    "y = trainLabel['class']\n",
    "y = pd.get_dummies(y)"
   ]
  },
  {
   "cell_type": "code",
   "execution_count": 6,
   "metadata": {},
   "outputs": [
    {
     "name": "stderr",
     "output_type": "stream",
     "text": [
      "100%|██████████| 24/24 [00:11<00:00,  2.03it/s]\n"
     ]
    }
   ],
   "source": [
    "# create all frames and csv with labels and frame name\n",
    "\n",
    "# clear temp folder\n",
    "files = glob('temp/*')\n",
    "for f in files:\n",
    "    os.remove(f)\n",
    "\n",
    "frameFileNames = []\n",
    "frameFileLabels = []\n",
    "\n",
    "# for loop to extract frames from each test video\n",
    "for i in tqdm(range(train['NameOfFile'].shape[0])):\n",
    "    count = 0\n",
    "    videoFile = train['NameOfFile'][i]\n",
    "    cap = cv2.VideoCapture('material/raw_test_videos/'+videoFile)   # capturing the video from the given path\n",
    "    frameRate = cap.get(5) #frame rate\n",
    "    x=1\n",
    "\n",
    "    while(cap.isOpened()):\n",
    "        frameId = cap.get(1) #current frame number\n",
    "        ret, frame = cap.read()\n",
    "        if (ret != True):\n",
    "            break\n",
    "        else:\n",
    "            filename ='temp/' + videoFile + \"_frame%d.jpg\" % count;count+=1\n",
    "            frameFileNames.append(filename)\n",
    "            frameFileLabels.append(train['label'][i])\n",
    "            cv2.imwrite(filename, frame)\n",
    "    cap.release()\n",
    "\n",
    "\n",
    "# storing the images and their labels in a dataframe\n",
    "test_frames = pd.DataFrame()\n",
    "test_frames['image'] = frameFileNames\n",
    "test_frames['label'] = frameFileLabels\n",
    "\n",
    "# converting the dataframe into csv file \n",
    "test_frames.to_csv('temp/test_frames.csv',header=True, index=False)"
   ]
  },
  {
   "cell_type": "code",
   "execution_count": 7,
   "metadata": {},
   "outputs": [],
   "source": [
    "# make predicitons on all frames\n",
    "\n",
    "\n",
    "# creating two lists to store predicted and actual tags\n",
    "predictFrame = []\n",
    "actualFrame = []\n",
    "\n",
    "# reading all the frames from temp folder\n",
    "images = glob(\"temp/*.jpg\")\n",
    "\n",
    "# reading actual labels from temp folder\n",
    "train = pd.read_csv('temp/test_frames.csv')\n",
    "\n",
    "# open all frames and convert to np array\n",
    "prediction_images = []\n",
    "for i in range(len(images)):\n",
    "    img = image.load_img(images[i], target_size=(480, 640, 3))\n",
    "    img = image.img_to_array(img)\n",
    "    img = img/480\n",
    "    prediction_images.append(img)\n",
    "    actualFrame.append(train['label'].loc[train['image'] == images[i]].values[0])\n",
    "\n",
    "# converting all the frames for a test video into numpy array\n",
    "prediction_images = np.array(prediction_images)\n",
    "\n",
    "# extracting features using pre-trained model\n",
    "prediction_images = base_model.predict(prediction_images)\n",
    "\n",
    "# converting features in one dimensional array\n",
    "prediction_images = prediction_images.reshape(prediction_images.shape[0], 15*20*512)\n",
    "\n",
    "# predicting tags for each array\n",
    "prediction = (model.predict(prediction_images) > 0.5).astype(\"int32\")\n",
    "for pre in prediction:\n",
    "    if pre[0] == 1:\n",
    "        predictFrame.append('downwards')\n",
    "    elif pre[1] == 1:\n",
    "        predictFrame.append('front')\n",
    "    elif pre[2] == 1:\n",
    "        predictFrame.append('side')\n",
    "    else:\n",
    "        predictFrame.append('upwards')"
   ]
  },
  {
   "cell_type": "code",
   "execution_count": 8,
   "metadata": {},
   "outputs": [
    {
     "name": "stdout",
     "output_type": "stream",
     "text": [
      "Test Accuracy 100.00%\n"
     ]
    }
   ],
   "source": [
    "# checking predicted and actual frames labels which dont match\n",
    "count_corrcet = 0\n",
    "count_false = 0\n",
    "for i in range(0, len(predictFrame)):\n",
    "    if predictFrame[i] == actualFrame[i]:\n",
    "        count_corrcet +=1\n",
    "    else:\n",
    "        print('frame ' + str(i),predictFrame[i], actualFrame[i])\n",
    "        print(frameName[i])\n",
    "        count_false +=1\n",
    "\n",
    "test_acc = (count_corrcet / (count_corrcet + count_false)) *100\n",
    "print('Test Accuracy {:.2f}%'.format(test_acc))"
   ]
  },
  {
   "cell_type": "markdown",
   "metadata": {},
   "source": [
    "# Evaluate single Video"
   ]
  },
  {
   "cell_type": "code",
   "execution_count": 35,
   "metadata": {},
   "outputs": [],
   "source": [
    "# clear temp folder\n",
    "files = glob('temp/*')\n",
    "for f in files:\n",
    "    os.remove(f)\n",
    "\n",
    "# extract frames from the video and store them\n",
    "count = 0\n",
    "# videoFile = '_tigfCJFLZg_00214.mp4' # should be \"downwards\" but is \"front\"\n",
    "# videoFile = '_8Vy3dlHg2w_00001.mp4' # should be \"upwards\" is \"upwards\"\n",
    "# videoFile = '3PLiUG_DuC8_00346.mp4' # should be \"upwards\" but is \"downwards\"\n",
    "videoFile = '_tigfCJFLZg_00181.mp4' # should be \"side\" is \"side\"\n",
    "#videoFile = 'Video_62.mp4' # should be \"front\" but includes camera switch\n",
    "cap = cv2.VideoCapture('material/single_videos/'+videoFile)   # capturing the video from the given path\n",
    "frameRate = cap.get(5) #frame rate\n",
    "\n",
    "while(cap.isOpened()):\n",
    "    frameId = cap.get(1) #current frame number\n",
    "    ret, frame = cap.read()\n",
    "    if (ret != True):\n",
    "        break\n",
    "    else:\n",
    "        filename ='temp/' + videoFile + \"_frame%d.jpg\" % count;count+=1\n",
    "        cv2.imwrite(filename, frame)\n",
    "cap.release()\n",
    "\n",
    "# creating two lists to store predicted and actual tags\n",
    "predictFrame = []\n",
    "\n",
    "# reading all the frames from temp folder\n",
    "images = glob(\"temp/*.jpg\")\n",
    "\n",
    "# open all frames and convert to np array\n",
    "prediction_images = []\n",
    "for i in range(len(images)):\n",
    "    img = image.load_img(images[i], target_size=(480, 640, 3))\n",
    "    img = image.img_to_array(img)\n",
    "    img = img/480\n",
    "    prediction_images.append(img)\n",
    "\n",
    "# converting all the frames for a test video into numpy array\n",
    "prediction_images = np.array(prediction_images)\n",
    "\n",
    "# extracting features using pre-trained model\n",
    "prediction_images = base_model.predict(prediction_images)\n",
    "\n",
    "# converting features in one dimensional array\n",
    "prediction_images = prediction_images.reshape(prediction_images.shape[0], 15*20*512)\n",
    "\n",
    "# predicting tags for each array\n",
    "prediction = (model.predict(prediction_images) > 0.5).astype(\"int32\")\n",
    "for pre in prediction:\n",
    "    if pre[0] == 1:\n",
    "        predictFrame.append('downwards')\n",
    "    elif pre[1] == 1:\n",
    "        predictFrame.append('front')\n",
    "    elif pre[2] == 1:\n",
    "        predictFrame.append('side')\n",
    "    else:\n",
    "        predictFrame.append('upwards')"
   ]
  },
  {
   "cell_type": "code",
   "execution_count": 36,
   "metadata": {},
   "outputs": [
    {
     "data": {
      "text/plain": [
       "['side',\n",
       " 'side',\n",
       " 'side',\n",
       " 'side',\n",
       " 'side',\n",
       " 'side',\n",
       " 'side',\n",
       " 'side',\n",
       " 'side',\n",
       " 'side',\n",
       " 'side',\n",
       " 'side',\n",
       " 'side',\n",
       " 'side',\n",
       " 'side',\n",
       " 'side',\n",
       " 'side',\n",
       " 'side',\n",
       " 'side',\n",
       " 'side',\n",
       " 'side',\n",
       " 'side',\n",
       " 'side',\n",
       " 'side',\n",
       " 'side',\n",
       " 'side',\n",
       " 'side',\n",
       " 'side',\n",
       " 'front',\n",
       " 'side',\n",
       " 'side',\n",
       " 'side',\n",
       " 'side',\n",
       " 'side',\n",
       " 'side',\n",
       " 'side',\n",
       " 'side',\n",
       " 'side',\n",
       " 'side',\n",
       " 'side',\n",
       " 'side',\n",
       " 'side',\n",
       " 'side',\n",
       " 'side',\n",
       " 'side',\n",
       " 'side',\n",
       " 'side',\n",
       " 'side',\n",
       " 'side',\n",
       " 'side',\n",
       " 'side',\n",
       " 'side',\n",
       " 'side',\n",
       " 'side',\n",
       " 'side',\n",
       " 'side',\n",
       " 'side',\n",
       " 'side',\n",
       " 'side',\n",
       " 'front',\n",
       " 'side',\n",
       " 'side',\n",
       " 'side',\n",
       " 'side',\n",
       " 'side',\n",
       " 'side',\n",
       " 'side',\n",
       " 'side',\n",
       " 'side',\n",
       " 'side',\n",
       " 'side',\n",
       " 'side',\n",
       " 'side',\n",
       " 'side',\n",
       " 'side',\n",
       " 'side',\n",
       " 'side',\n",
       " 'side',\n",
       " 'front',\n",
       " 'side',\n",
       " 'side',\n",
       " 'side',\n",
       " 'side',\n",
       " 'side',\n",
       " 'side',\n",
       " 'side',\n",
       " 'side',\n",
       " 'side',\n",
       " 'side',\n",
       " 'side',\n",
       " 'side',\n",
       " 'side',\n",
       " 'front',\n",
       " 'side',\n",
       " 'side',\n",
       " 'side',\n",
       " 'side',\n",
       " 'side',\n",
       " 'side',\n",
       " 'side',\n",
       " 'side',\n",
       " 'side',\n",
       " 'side',\n",
       " 'side',\n",
       " 'side',\n",
       " 'front',\n",
       " 'side',\n",
       " 'side',\n",
       " 'side',\n",
       " 'side',\n",
       " 'side',\n",
       " 'side',\n",
       " 'side',\n",
       " 'side',\n",
       " 'front',\n",
       " 'side',\n",
       " 'side',\n",
       " 'side',\n",
       " 'side',\n",
       " 'side',\n",
       " 'side',\n",
       " 'side',\n",
       " 'side',\n",
       " 'side',\n",
       " 'side',\n",
       " 'side',\n",
       " 'side',\n",
       " 'side',\n",
       " 'side',\n",
       " 'side',\n",
       " 'side',\n",
       " 'side',\n",
       " 'side']"
      ]
     },
     "execution_count": 36,
     "metadata": {},
     "output_type": "execute_result"
    }
   ],
   "source": [
    "predictFrame"
   ]
  },
  {
   "cell_type": "code",
   "execution_count": 37,
   "metadata": {},
   "outputs": [
    {
     "data": {
      "text/plain": [
       "'side'"
      ]
     },
     "execution_count": 37,
     "metadata": {},
     "output_type": "execute_result"
    }
   ],
   "source": [
    "#most labels say:\n",
    "s.mode(predictFrame)[0][0]"
   ]
  },
  {
   "cell_type": "code",
   "execution_count": 38,
   "metadata": {},
   "outputs": [
    {
     "name": "stdout",
     "output_type": "stream",
     "text": [
      "correct:  0 false:  133\n"
     ]
    }
   ],
   "source": [
    "# checking predicted and actual frames labels which dont match\n",
    "counterA = 0\n",
    "counterB = 0\n",
    "for i in range(0, len(predictFrame)):\n",
    "    if predictFrame[i] == 'downwards':\n",
    "        counterA +=1\n",
    "    else:\n",
    "        counterB +=1 \n",
    "print('correct: ', counterA, 'false: ',counterB)"
   ]
  },
  {
   "cell_type": "code",
   "execution_count": null,
   "metadata": {},
   "outputs": [],
   "source": []
  }
 ],
 "metadata": {
  "kernelspec": {
   "display_name": "Python 3",
   "language": "python",
   "name": "python3"
  },
  "language_info": {
   "codemirror_mode": {
    "name": "ipython",
    "version": 3
   },
   "file_extension": ".py",
   "mimetype": "text/x-python",
   "name": "python",
   "nbconvert_exporter": "python",
   "pygments_lexer": "ipython3",
   "version": "3.8.5"
  }
 },
 "nbformat": 4,
 "nbformat_minor": 2
}
