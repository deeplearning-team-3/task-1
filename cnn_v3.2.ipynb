{
 "cells": [
  {
   "cell_type": "code",
   "execution_count": 9,
   "metadata": {},
   "outputs": [],
   "source": [
    "# Das Notebook basiert auf diesem Turoial:\n",
    "# https://www.analyticsvidhya.com/blog/2019/09/step-by-step-deep-learning-tutorial-video-classification-python/"
   ]
  },
  {
   "cell_type": "markdown",
   "metadata": {},
   "source": [
    "# Training the model starts here"
   ]
  },
  {
   "cell_type": "code",
   "execution_count": 1,
   "metadata": {},
   "outputs": [],
   "source": [
    "#imports\n",
    "import keras\n",
    "from keras.models import Sequential\n",
    "from keras.layers import Dense, InputLayer, Dropout, Flatten\n",
    "from keras.layers import Conv2D, MaxPooling2D, GlobalMaxPooling2D\n",
    "from keras.preprocessing import image\n",
    "import numpy as np\n",
    "import pandas as pd\n",
    "import matplotlib.pyplot as plt\n",
    "from tqdm import tqdm\n",
    "from sklearn.model_selection import train_test_split\n",
    "\n",
    "from tensorflow.keras.regularizers import l2\n",
    "from tensorflow.keras.layers import Activation\n",
    "from tensorflow.keras.layers import BatchNormalization\n",
    "from sklearn.metrics import classification_report"
   ]
  },
  {
   "cell_type": "code",
   "execution_count": 2,
   "metadata": {},
   "outputs": [],
   "source": [
    "# read in csv with labels for frames\n",
    "train = pd.read_csv('material/train_frames.csv')"
   ]
  },
  {
   "cell_type": "code",
   "execution_count": 3,
   "metadata": {},
   "outputs": [
    {
     "name": "stderr",
     "output_type": "stream",
     "text": [
      "100%|██████████| 8300/8300 [02:35<00:00, 53.46it/s]\n"
     ]
    },
    {
     "data": {
      "text/plain": [
       "(8300, 480, 640, 3)"
      ]
     },
     "execution_count": 3,
     "metadata": {},
     "output_type": "execute_result"
    }
   ],
   "source": [
    "# reading in all the frames and saving them to a numpy array\n",
    "\n",
    "# creating an empty list\n",
    "train_image = []\n",
    "\n",
    "# for loop to read and store frames\n",
    "for i in tqdm(range(train.shape[0])):\n",
    "    # loading the image and keeping the image size (480, 640, 3)\n",
    "    '''\n",
    "    TO DO:\n",
    "    finde heraus was die ideale input größe der Bilder ist. \n",
    "    '''\n",
    "    img = image.load_img('material/train_frames/'+train['image'][i], target_size=(480, 640, 3))\n",
    "    # converting it to array\n",
    "    img = image.img_to_array(img)\n",
    "    # normalizing the pixel value\n",
    "    '''\n",
    "    TO DO:\n",
    "    finde heraus was die optimale normalisierung der Bild daten ist\n",
    "    '''\n",
    "    img = img/480\n",
    "    # appending the image to the train_image list\n",
    "    train_image.append(img)\n",
    "    \n",
    "# converting the list to numpy array\n",
    "X = np.array(train_image)\n",
    "\n",
    "# shape of the array\n",
    "X.shape"
   ]
  },
  {
   "cell_type": "code",
   "execution_count": 4,
   "metadata": {},
   "outputs": [],
   "source": [
    "# creating train and test set\n",
    "\n",
    "# separating the target\n",
    "y = train['class']\n",
    "\n",
    "# creating the training and validation set\n",
    "X_train, X_test, y_train, y_test = train_test_split(X, y, random_state=42, test_size=0.2, stratify = y)"
   ]
  },
  {
   "cell_type": "code",
   "execution_count": 5,
   "metadata": {},
   "outputs": [],
   "source": [
    "# creating dummies of target variable for train and validation set\n",
    "y_train = pd.get_dummies(y_train)\n",
    "y_test = pd.get_dummies(y_test)"
   ]
  },
  {
   "cell_type": "markdown",
   "metadata": {},
   "source": [
    "### Defining the architecture of the model"
   ]
  },
  {
   "cell_type": "code",
   "execution_count": 6,
   "metadata": {},
   "outputs": [],
   "source": [
    "# model without transferlearning based on:\n",
    "# https://www.pyimagesearch.com/2018/12/31/keras-conv2d-and-convolutional-layers/\n",
    "inputShape = (480, 640, 3)\n",
    "\n",
    "model = Sequential()\n",
    "model.add(Conv2D(8, (7, 7), strides=(2, 2), padding=\"valid\",input_shape=inputShape))\n",
    "model.add(Flatten())\n",
    "# softmax classifier\n",
    "model.add(Dense(4))\n",
    "model.add(Activation(\"softmax\"))\n",
    "# return the constructed network architecture"
   ]
  },
  {
   "cell_type": "code",
   "execution_count": 7,
   "metadata": {},
   "outputs": [
    {
     "name": "stdout",
     "output_type": "stream",
     "text": [
      "Model: \"sequential\"\n",
      "_________________________________________________________________\n",
      "Layer (type)                 Output Shape              Param #   \n",
      "=================================================================\n",
      "conv2d (Conv2D)              (None, 237, 317, 8)       1184      \n",
      "_________________________________________________________________\n",
      "flatten (Flatten)            (None, 601032)            0         \n",
      "_________________________________________________________________\n",
      "dense (Dense)                (None, 4)                 2404132   \n",
      "_________________________________________________________________\n",
      "activation (Activation)      (None, 4)                 0         \n",
      "=================================================================\n",
      "Total params: 2,405,316\n",
      "Trainable params: 2,405,316\n",
      "Non-trainable params: 0\n",
      "_________________________________________________________________\n",
      "None\n"
     ]
    }
   ],
   "source": [
    "print(model.summary())"
   ]
  },
  {
   "cell_type": "code",
   "execution_count": 8,
   "metadata": {},
   "outputs": [],
   "source": [
    "# defining a function to save the weights of best model\n",
    "from keras.callbacks import ModelCheckpoint\n",
    "mcp_save = ModelCheckpoint('weight_v3.6.hdf5', save_best_only=True, monitor='val_loss', mode='min')"
   ]
  },
  {
   "cell_type": "code",
   "execution_count": 9,
   "metadata": {},
   "outputs": [],
   "source": [
    "# compiling the model\n",
    "model.compile(loss='categorical_crossentropy',optimizer='Adam',metrics=['accuracy'])"
   ]
  },
  {
   "cell_type": "markdown",
   "metadata": {},
   "source": [
    "### Model wird hier trainiert"
   ]
  },
  {
   "cell_type": "code",
   "execution_count": 10,
   "metadata": {},
   "outputs": [
    {
     "name": "stdout",
     "output_type": "stream",
     "text": [
      "Epoch 1/10\n",
      "13/13 [==============================] - 22s 2s/step - loss: 17.4509 - accuracy: 0.5566 - val_loss: 1.8827 - val_accuracy: 0.7476\n",
      "Epoch 2/10\n",
      "13/13 [==============================] - 15s 1s/step - loss: 1.4564 - accuracy: 0.8009 - val_loss: 1.1272 - val_accuracy: 0.8657\n",
      "Epoch 3/10\n",
      "13/13 [==============================] - 15s 1s/step - loss: 0.5775 - accuracy: 0.9101 - val_loss: 0.4768 - val_accuracy: 0.9205\n",
      "Epoch 4/10\n",
      "13/13 [==============================] - 13s 1s/step - loss: 0.2669 - accuracy: 0.9483 - val_loss: 0.2507 - val_accuracy: 0.9416\n",
      "Epoch 5/10\n",
      "13/13 [==============================] - 12s 941ms/step - loss: 0.1532 - accuracy: 0.9667 - val_loss: 0.1299 - val_accuracy: 0.9705\n",
      "Epoch 6/10\n",
      "13/13 [==============================] - 13s 1s/step - loss: 0.0788 - accuracy: 0.9747 - val_loss: 0.0761 - val_accuracy: 0.9789\n",
      "Epoch 7/10\n",
      "13/13 [==============================] - 12s 954ms/step - loss: 0.0535 - accuracy: 0.9837 - val_loss: 0.0677 - val_accuracy: 0.9843\n",
      "Epoch 8/10\n",
      "13/13 [==============================] - 9s 705ms/step - loss: 0.0427 - accuracy: 0.9893 - val_loss: 0.0586 - val_accuracy: 0.9813\n",
      "Epoch 9/10\n",
      "13/13 [==============================] - 8s 625ms/step - loss: 0.0335 - accuracy: 0.9923 - val_loss: 0.0440 - val_accuracy: 0.9880\n",
      "Epoch 10/10\n",
      "13/13 [==============================] - 7s 573ms/step - loss: 0.0291 - accuracy: 0.9940 - val_loss: 0.0392 - val_accuracy: 0.9910\n",
      "CPU times: user 4min 48s, sys: 3min 25s, total: 8min 13s\n",
      "Wall time: 2min 46s\n"
     ]
    }
   ],
   "source": [
    "%%time\n",
    "# training the model \n",
    "\n",
    "version36 = model.fit(X_train, y_train, epochs=10, validation_data=(X_test, y_test), callbacks=[mcp_save], batch_size=512)"
   ]
  },
  {
   "cell_type": "code",
   "execution_count": 11,
   "metadata": {},
   "outputs": [
    {
     "data": {
      "image/png": "[encoded data removed]",
      "text/plain": [
       "<Figure size 432x288 with 1 Axes>"
      ]
     },
     "metadata": {
      "needs_background": "light"
     },
     "output_type": "display_data"
    },
    {
     "data": {
      "image/png": "[encoded data removed]",
      "text/plain": [
       "<Figure size 432x288 with 1 Axes>"
      ]
     },
     "metadata": {
      "needs_background": "light"
     },
     "output_type": "display_data"
    }
   ],
   "source": [
    "# plot training history\n",
    "#  \"Accuracy\"\n",
    "plt.plot(version36.history['accuracy'])\n",
    "plt.plot(version36.history['val_accuracy'])\n",
    "plt.title('model accuracy')\n",
    "plt.ylabel('accuracy')\n",
    "plt.xlabel('epoch')\n",
    "plt.legend(['train', 'validation'])\n",
    "plt.show()\n",
    "# \"Loss\"\n",
    "plt.plot(version36.history['loss'])\n",
    "plt.plot(version36.history['val_loss'])\n",
    "plt.title('model loss')\n",
    "plt.ylabel('loss')\n",
    "plt.xlabel('epoch')\n",
    "plt.legend(['train', 'validation']) #loc='lower right'\n",
    "plt.show()"
   ]
  },
  {
   "cell_type": "code",
   "execution_count": 12,
   "metadata": {},
   "outputs": [
    {
     "name": "stdout",
     "output_type": "stream",
     "text": [
      "208/208 [==============================] - 6s 29ms/step - loss: 0.0243 - accuracy: 0.9962\n"
     ]
    },
    {
     "data": {
      "text/plain": [
       "[0.02425466850399971, 0.9962349534034729]"
      ]
     },
     "execution_count": 12,
     "metadata": {},
     "output_type": "execute_result"
    }
   ],
   "source": [
    "model.evaluate(X_train, y_train)"
   ]
  },
  {
   "cell_type": "code",
   "execution_count": 13,
   "metadata": {},
   "outputs": [
    {
     "data": {
      "text/plain": [
       "0.9939758777618408"
      ]
     },
     "execution_count": 13,
     "metadata": {},
     "output_type": "execute_result"
    }
   ],
   "source": [
    "acc = version36.history['accuracy']\n",
    "np.amax(acc)"
   ]
  },
  {
   "cell_type": "code",
   "execution_count": 14,
   "metadata": {},
   "outputs": [
    {
     "name": "stdout",
     "output_type": "stream",
     "text": [
      "[INFO] evaluating network...\n",
      "              precision    recall  f1-score   support\n",
      "\n",
      "   downwards       1.00      1.00      1.00       221\n",
      "       front       0.99      0.99      0.99       467\n",
      "        side       0.99      0.99      0.99       892\n",
      "     upwards       0.97      0.96      0.97        80\n",
      "\n",
      "    accuracy                           0.99      1660\n",
      "   macro avg       0.99      0.99      0.99      1660\n",
      "weighted avg       0.99      0.99      0.99      1660\n",
      "\n"
     ]
    }
   ],
   "source": [
    "print(\"[INFO] evaluating network...\")\n",
    "y_test_numeric = y_test.rename(columns={\"downwards\": 0, \"front\": 1, \"side\": 2, \"upwards\": 3})\n",
    "predictions = model.predict(x=X_test, batch_size=128)\n",
    "print(classification_report(y_test_numeric.idxmax(axis=\"columns\").values,\n",
    "                            predictions.argmax(axis=1), target_names=['downwards', 'front', 'side', 'upwards']))"
   ]
  },
  {
   "cell_type": "markdown",
   "metadata": {},
   "source": [
    "# Evaluating our Video Classification Model"
   ]
  },
  {
   "cell_type": "markdown",
   "metadata": {},
   "source": [
    "## Defining Model architecture and loading weights"
   ]
  },
  {
   "cell_type": "code",
   "execution_count": 1,
   "metadata": {},
   "outputs": [],
   "source": [
    "# imports\n",
    "from keras.models import Sequential\n",
    "from keras.layers import Dense, Dropout, Flatten\n",
    "from keras.layers import Conv2D, MaxPooling2D\n",
    "from keras.preprocessing import image\n",
    "import numpy as np\n",
    "import pandas as pd\n",
    "from tqdm import tqdm\n",
    "from keras.applications.vgg16 import VGG16\n",
    "import cv2\n",
    "import math\n",
    "import os\n",
    "from glob import glob\n",
    "from scipy import stats as s\n",
    "\n",
    "from tensorflow.keras.regularizers import l2\n",
    "from tensorflow.keras.layers import Activation\n",
    "from tensorflow.keras.layers import BatchNormalization"
   ]
  },
  {
   "cell_type": "code",
   "execution_count": 2,
   "metadata": {},
   "outputs": [],
   "source": [
    "# model without transferlearning based on:\n",
    "# https://www.pyimagesearch.com/2018/12/31/keras-conv2d-and-convolutional-layers/\n",
    "inputShape = (480, 640, 3)\n",
    "\n",
    "model = Sequential()\n",
    "model.add(Conv2D(8, (7, 7), strides=(2, 2), padding=\"valid\",input_shape=inputShape))\n",
    "model.add(Flatten())\n",
    "# softmax classifier\n",
    "model.add(Dense(4))\n",
    "model.add(Activation(\"softmax\"))\n",
    "# return the constructed network architecture"
   ]
  },
  {
   "cell_type": "code",
   "execution_count": 3,
   "metadata": {},
   "outputs": [],
   "source": [
    "# loading the trained weights\n",
    "model.load_weights(\"weight_v3.6.hdf5\")\n",
    "\n",
    "# compiling the model\n",
    "model.compile(loss='categorical_crossentropy',optimizer='Adam',metrics=['accuracy'])"
   ]
  },
  {
   "cell_type": "markdown",
   "metadata": {},
   "source": [
    "## Generating predictions for all test videos"
   ]
  },
  {
   "cell_type": "code",
   "execution_count": 4,
   "metadata": {},
   "outputs": [],
   "source": [
    "# reading in test labels for verification later\n",
    "train = pd.read_csv('material/test_labels.csv', sep=';')\n",
    "\n",
    "# creating the dummy tags\n",
    "trainLabel = pd.read_csv('material/train_frames.csv')\n",
    "y = trainLabel['class']\n",
    "y = pd.get_dummies(y)"
   ]
  },
  {
   "cell_type": "code",
   "execution_count": 5,
   "metadata": {},
   "outputs": [
    {
     "name": "stderr",
     "output_type": "stream",
     "text": [
      "100%|██████████| 24/24 [00:35<00:00,  1.48s/it]\n"
     ]
    }
   ],
   "source": [
    "# creating two lists to store predicted and actual tags\n",
    "predict = []\n",
    "actual = []\n",
    "\n",
    "# for loop to extract frames from each test video\n",
    "for i in tqdm(range(train['NameOfFile'].shape[0])):\n",
    "    count = 0\n",
    "    videoFile = train['NameOfFile'][i]\n",
    "    cap = cv2.VideoCapture('material/raw_test_videos/'+videoFile)   # capturing the video from the given path\n",
    "    frameRate = cap.get(5) #frame rate\n",
    "    \n",
    "    # removing all other files from the temp folder\n",
    "    files = glob('temp/*')\n",
    "    for f in files:\n",
    "        os.remove(f)\n",
    "    while(cap.isOpened()):\n",
    "        frameId = cap.get(1) #current frame number\n",
    "        ret, frame = cap.read()\n",
    "        if (ret != True):\n",
    "            break\n",
    "        #if (frameId % math.floor(frameRate) == 0):\n",
    "            # storing the frames of this particular video in temp folder\n",
    "        else:\n",
    "            filename ='temp/' + \"_frame%d.jpg\" % count;count+=1\n",
    "            cv2.imwrite(filename, frame)\n",
    "    cap.release()\n",
    "    \n",
    "    # reading all the frames from temp folder\n",
    "    images = glob(\"temp/*.jpg\")\n",
    "    \n",
    "    prediction_images = []\n",
    "    for i in range(len(images)):\n",
    "        img = image.load_img(images[i], target_size=(480, 640, 3))\n",
    "        img = image.img_to_array(img)\n",
    "        img = img/480\n",
    "        prediction_images.append(img)\n",
    "    \n",
    "    # converting all the frames for a test video into numpy array\n",
    "    prediction_images = np.array(prediction_images)\n",
    "\n",
    "    # predicting tags for each array\n",
    "    # predicting tags for each array\n",
    "    prediction = (model.predict(prediction_images) > 0.5).astype(\"int32\")\n",
    "    predictFrame = []\n",
    "    for pre in prediction:\n",
    "        if pre[0] == 1:\n",
    "            predictFrame.append('downwards')\n",
    "        elif pre[1] == 1:\n",
    "            predictFrame.append('front')\n",
    "        elif pre[2] == 1:\n",
    "            predictFrame.append('side')\n",
    "        else:\n",
    "            predictFrame.append('upwards')\n",
    "\n",
    "    # appending the mode of predictions in predict list to assign the tag to the video\n",
    "    predict.append(s.mode(predictFrame)[0][0])\n",
    "    \n",
    "    # appending the actual tag of the video\n",
    "    actual.append(train['label'].loc[train['NameOfFile'] == videoFile].values[0])"
   ]
  },
  {
   "cell_type": "code",
   "execution_count": 6,
   "metadata": {},
   "outputs": [
    {
     "data": {
      "text/plain": [
       "100.0"
      ]
     },
     "execution_count": 6,
     "metadata": {},
     "output_type": "execute_result"
    }
   ],
   "source": [
    "# checking the accuracy of the predicted tags\n",
    "from sklearn.metrics import accuracy_score\n",
    "accuracy_score(predict, actual)*100"
   ]
  },
  {
   "cell_type": "code",
   "execution_count": 7,
   "metadata": {},
   "outputs": [
    {
     "data": {
      "text/plain": [
       "['side',\n",
       " 'front',\n",
       " 'downwards',\n",
       " 'front',\n",
       " 'side',\n",
       " 'side',\n",
       " 'front',\n",
       " 'side',\n",
       " 'downwards',\n",
       " 'front',\n",
       " 'side',\n",
       " 'downwards',\n",
       " 'side',\n",
       " 'downwards',\n",
       " 'front',\n",
       " 'side',\n",
       " 'front',\n",
       " 'downwards',\n",
       " 'side',\n",
       " 'front',\n",
       " 'side',\n",
       " 'front',\n",
       " 'side',\n",
       " 'side']"
      ]
     },
     "execution_count": 7,
     "metadata": {},
     "output_type": "execute_result"
    }
   ],
   "source": [
    "predict"
   ]
  },
  {
   "cell_type": "code",
   "execution_count": 8,
   "metadata": {},
   "outputs": [
    {
     "data": {
      "text/plain": [
       "['side',\n",
       " 'front',\n",
       " 'downwards',\n",
       " 'front',\n",
       " 'side',\n",
       " 'side',\n",
       " 'front',\n",
       " 'side',\n",
       " 'downwards',\n",
       " 'front',\n",
       " 'side',\n",
       " 'downwards',\n",
       " 'side',\n",
       " 'downwards',\n",
       " 'front',\n",
       " 'side',\n",
       " 'front',\n",
       " 'downwards',\n",
       " 'side',\n",
       " 'front',\n",
       " 'side',\n",
       " 'front',\n",
       " 'side',\n",
       " 'side']"
      ]
     },
     "execution_count": 8,
     "metadata": {},
     "output_type": "execute_result"
    }
   ],
   "source": [
    "actual"
   ]
  },
  {
   "cell_type": "markdown",
   "metadata": {},
   "source": [
    "# Evaluate Model by looking at Frame prediction"
   ]
  },
  {
   "cell_type": "code",
   "execution_count": 9,
   "metadata": {},
   "outputs": [],
   "source": [
    "# reading in test labels for verification later\n",
    "train = pd.read_csv('material/test_labels.csv', sep=';')\n",
    "\n",
    "# creating the dummy tags\n",
    "trainLabel = pd.read_csv('material/train_frames.csv')\n",
    "y = trainLabel['class']\n",
    "y = pd.get_dummies(y)"
   ]
  },
  {
   "cell_type": "code",
   "execution_count": 10,
   "metadata": {},
   "outputs": [
    {
     "name": "stderr",
     "output_type": "stream",
     "text": [
      "100%|██████████| 24/24 [00:11<00:00,  2.12it/s]\n"
     ]
    }
   ],
   "source": [
    "# create all frames and csv with labels and frame name\n",
    "\n",
    "# clear temp folder\n",
    "files = glob('temp/*')\n",
    "for f in files:\n",
    "    os.remove(f)\n",
    "\n",
    "frameFileNames = []\n",
    "frameFileLabels = []\n",
    "\n",
    "# for loop to extract frames from each test video\n",
    "for i in tqdm(range(train['NameOfFile'].shape[0])):\n",
    "    count = 0\n",
    "    videoFile = train['NameOfFile'][i]\n",
    "    cap = cv2.VideoCapture('material/raw_test_videos/'+videoFile)   # capturing the video from the given path\n",
    "    frameRate = cap.get(5) #frame rate\n",
    "    x=1\n",
    "\n",
    "    while(cap.isOpened()):\n",
    "        frameId = cap.get(1) #current frame number\n",
    "        ret, frame = cap.read()\n",
    "        if (ret != True):\n",
    "            break\n",
    "        else:\n",
    "            filename ='temp/' + videoFile + \"_frame%d.jpg\" % count;count+=1\n",
    "            frameFileNames.append(filename)\n",
    "            frameFileLabels.append(train['label'][i])\n",
    "            cv2.imwrite(filename, frame)\n",
    "    cap.release()\n",
    "\n",
    "\n",
    "# storing the images and their labels in a dataframe\n",
    "test_frames = pd.DataFrame()\n",
    "test_frames['image'] = frameFileNames\n",
    "test_frames['label'] = frameFileLabels\n",
    "\n",
    "# converting the dataframe into csv file \n",
    "test_frames.to_csv('temp/test_frames.csv',header=True, index=False)"
   ]
  },
  {
   "cell_type": "code",
   "execution_count": 11,
   "metadata": {},
   "outputs": [],
   "source": [
    "# make predicitons on all frames\n",
    "\n",
    "\n",
    "# creating two lists to store predicted and actual tags\n",
    "predictFrame = []\n",
    "actualFrame = []\n",
    "frameName = []\n",
    "\n",
    "# reading all the frames from temp folder\n",
    "images = glob(\"temp/*.jpg\")\n",
    "\n",
    "# reading actual labels from temp folder\n",
    "train = pd.read_csv('temp/test_frames.csv')\n",
    "\n",
    "# open all frames and convert to np array\n",
    "prediction_images = []\n",
    "for i in range(len(images)):\n",
    "    img = image.load_img(images[i], target_size=(480, 640, 3))\n",
    "    img = image.img_to_array(img)\n",
    "    img = img/480\n",
    "    prediction_images.append(img)\n",
    "    actualFrame.append(train['label'].loc[train['image'] == images[i]].values[0])\n",
    "    frameName.append(images[i].split('/')[1])\n",
    "\n",
    "# converting all the frames for a test video into numpy array\n",
    "prediction_images = np.array(prediction_images)\n",
    "\n",
    "# predicting tags for each array\n",
    "prediction = (model.predict(prediction_images) > 0.5).astype(\"int32\")\n",
    "for pre in prediction:\n",
    "    if pre[0] == 1:\n",
    "        predictFrame.append('downwards')\n",
    "    elif pre[1] == 1:\n",
    "        predictFrame.append('front')\n",
    "    elif pre[2] == 1:\n",
    "        predictFrame.append('side')\n",
    "    else:\n",
    "        predictFrame.append('upwards')"
   ]
  },
  {
   "cell_type": "code",
   "execution_count": 28,
   "metadata": {},
   "outputs": [
    {
     "name": "stdout",
     "output_type": "stream",
     "text": [
      "frame 72 side front\n",
      "frame 79 front side\n",
      "frame 198 front side\n",
      "frame 264 front side\n",
      "frame 277 front side\n",
      "frame 308 front side\n",
      "frame 357 front side\n",
      "frame 368 front side\n",
      "frame 390 front side\n",
      "frame 527 side front\n",
      "frame 553 front side\n",
      "frame 560 front side\n",
      "frame 605 upwards side\n",
      "frame 876 front side\n",
      "frame 909 front side\n",
      "frame 965 front side\n",
      "frame 1228 front side\n",
      "frame 1292 front side\n",
      "frame 1427 front side\n",
      "frame 1622 front side\n",
      "frame 1632 front side\n",
      "frame 1634 front side\n",
      "frame 1653 front side\n",
      "frame 1703 front side\n",
      "frame 1726 front side\n",
      "frame 1774 side front\n",
      "frame 1782 front side\n",
      "frame 1871 front side\n",
      "frame 1872 front side\n",
      "frame 1943 front side\n",
      "frame 2050 front side\n",
      "frame 2071 front side\n",
      "frame 2087 upwards side\n",
      "frame 2096 front side\n",
      "frame 2146 front side\n",
      "Test Accuracy 98.44%\n"
     ]
    }
   ],
   "source": [
    "# checking predicted and actual frames labels which dont match\n",
    "count_corrcet = 0\n",
    "count_false = 0\n",
    "for i in range(0, len(predictFrame)):\n",
    "    if predictFrame[i] == actualFrame[i]:\n",
    "        count_corrcet +=1\n",
    "    else:\n",
    "        print('frame ' + str(i),predictFrame[i], actualFrame[i])\n",
    "        #print(frameName[i])\n",
    "        count_false +=1\n",
    "\n",
    "test_acc = (count_corrcet / (count_corrcet + count_false)) *100\n",
    "print('Test Accuracy {:.2f}%'.format(test_acc))"
   ]
  },
  {
   "cell_type": "markdown",
   "metadata": {},
   "source": [
    "# Evaluate single Video"
   ]
  },
  {
   "cell_type": "code",
   "execution_count": 29,
   "metadata": {},
   "outputs": [],
   "source": [
    "# clear temp folder\n",
    "files = glob('temp/*')\n",
    "for f in files:\n",
    "    os.remove(f)\n",
    "\n",
    "# extract frames from the video and store them\n",
    "count = 0\n",
    "#videoFile = '_tigfCJFLZg_00214.mp4' # should be \"downwards\" but is \"front\"\n",
    "#videoFile = '_8Vy3dlHg2w_00001.mp4' # should be \"upwards\" is \"upwards\"\n",
    "#videoFile = '3PLiUG_DuC8_00346.mp4' # should be \"upwards\" but is \"downwards\"\n",
    "#videoFile = '_tigfCJFLZg_00181.mp4' # should be \"side\" is \"side\"\n",
    "videoFile = 'Video_62.mp4' # should be \"front\" but includes camera switch\n",
    "cap = cv2.VideoCapture('material/single_videos/'+videoFile)   # capturing the video from the given path\n",
    "frameRate = cap.get(5) #frame rate\n",
    "\n",
    "while(cap.isOpened()):\n",
    "    frameId = cap.get(1) #current frame number\n",
    "    ret, frame = cap.read()\n",
    "    if (ret != True):\n",
    "        break\n",
    "    else:\n",
    "        filename ='temp/' + videoFile + \"_frame%d.jpg\" % count;count+=1\n",
    "        cv2.imwrite(filename, frame)\n",
    "cap.release()\n",
    "\n",
    "# creating two lists to store predicted and actual tags\n",
    "predictFrame = []\n",
    "\n",
    "# reading all the frames from temp folder\n",
    "images = glob(\"temp/*.jpg\")\n",
    "\n",
    "# open all frames and convert to np array\n",
    "prediction_images = []\n",
    "for i in range(len(images)):\n",
    "    img = image.load_img(images[i], target_size=(480, 640, 3))\n",
    "    img = image.img_to_array(img)\n",
    "    img = img/480\n",
    "    prediction_images.append(img)\n",
    "\n",
    "# converting all the frames for a test video into numpy array\n",
    "prediction_images = np.array(prediction_images)\n",
    "\n",
    "# predicting tags for each array\n",
    "prediction = (model.predict(prediction_images) > 0.5).astype(\"int32\")\n",
    "for pre in prediction:\n",
    "    if pre[0] == 1:\n",
    "        predictFrame.append('downwards')\n",
    "    elif pre[1] == 1:\n",
    "        predictFrame.append('front')\n",
    "    elif pre[2] == 1:\n",
    "        predictFrame.append('side')\n",
    "    else:\n",
    "        predictFrame.append('upwards')"
   ]
  },
  {
   "cell_type": "code",
   "execution_count": 30,
   "metadata": {},
   "outputs": [
    {
     "data": {
      "text/plain": [
       "['front',\n",
       " 'front',\n",
       " 'front',\n",
       " 'front',\n",
       " 'front',\n",
       " 'front',\n",
       " 'front',\n",
       " 'upwards',\n",
       " 'front',\n",
       " 'upwards',\n",
       " 'front',\n",
       " 'front',\n",
       " 'front',\n",
       " 'upwards',\n",
       " 'front',\n",
       " 'side',\n",
       " 'front',\n",
       " 'front',\n",
       " 'front',\n",
       " 'front',\n",
       " 'front',\n",
       " 'front',\n",
       " 'front',\n",
       " 'front',\n",
       " 'front',\n",
       " 'front',\n",
       " 'front',\n",
       " 'front',\n",
       " 'front',\n",
       " 'side',\n",
       " 'front',\n",
       " 'front',\n",
       " 'front',\n",
       " 'side',\n",
       " 'front',\n",
       " 'front',\n",
       " 'front',\n",
       " 'side',\n",
       " 'front',\n",
       " 'side',\n",
       " 'front',\n",
       " 'front',\n",
       " 'front',\n",
       " 'front',\n",
       " 'front',\n",
       " 'front',\n",
       " 'side',\n",
       " 'side',\n",
       " 'front',\n",
       " 'front',\n",
       " 'upwards',\n",
       " 'front',\n",
       " 'front',\n",
       " 'front',\n",
       " 'upwards',\n",
       " 'front',\n",
       " 'front',\n",
       " 'front',\n",
       " 'front',\n",
       " 'front',\n",
       " 'side',\n",
       " 'front',\n",
       " 'front',\n",
       " 'front',\n",
       " 'front',\n",
       " 'front',\n",
       " 'front',\n",
       " 'front',\n",
       " 'front',\n",
       " 'front',\n",
       " 'front',\n",
       " 'upwards',\n",
       " 'front',\n",
       " 'front',\n",
       " 'front',\n",
       " 'front',\n",
       " 'side',\n",
       " 'front',\n",
       " 'front',\n",
       " 'upwards',\n",
       " 'front',\n",
       " 'front',\n",
       " 'front',\n",
       " 'front',\n",
       " 'front',\n",
       " 'upwards',\n",
       " 'side',\n",
       " 'front',\n",
       " 'front',\n",
       " 'front',\n",
       " 'front',\n",
       " 'front',\n",
       " 'front',\n",
       " 'front',\n",
       " 'upwards',\n",
       " 'front',\n",
       " 'front',\n",
       " 'front',\n",
       " 'front',\n",
       " 'front',\n",
       " 'front',\n",
       " 'front',\n",
       " 'side',\n",
       " 'front',\n",
       " 'front',\n",
       " 'side',\n",
       " 'front',\n",
       " 'upwards',\n",
       " 'front',\n",
       " 'front',\n",
       " 'front',\n",
       " 'front',\n",
       " 'front',\n",
       " 'front',\n",
       " 'front',\n",
       " 'front',\n",
       " 'front',\n",
       " 'side',\n",
       " 'front',\n",
       " 'front',\n",
       " 'side',\n",
       " 'front',\n",
       " 'front',\n",
       " 'front',\n",
       " 'front',\n",
       " 'front',\n",
       " 'front',\n",
       " 'front',\n",
       " 'upwards',\n",
       " 'front',\n",
       " 'front',\n",
       " 'front',\n",
       " 'side',\n",
       " 'front',\n",
       " 'front',\n",
       " 'front',\n",
       " 'front',\n",
       " 'front',\n",
       " 'front',\n",
       " 'front',\n",
       " 'front',\n",
       " 'front',\n",
       " 'front',\n",
       " 'front',\n",
       " 'front',\n",
       " 'upwards',\n",
       " 'front',\n",
       " 'side',\n",
       " 'front',\n",
       " 'front',\n",
       " 'front',\n",
       " 'front',\n",
       " 'front',\n",
       " 'front',\n",
       " 'upwards',\n",
       " 'front',\n",
       " 'front',\n",
       " 'front',\n",
       " 'front',\n",
       " 'front',\n",
       " 'side',\n",
       " 'front',\n",
       " 'front',\n",
       " 'front',\n",
       " 'upwards',\n",
       " 'front',\n",
       " 'front',\n",
       " 'front',\n",
       " 'side',\n",
       " 'front',\n",
       " 'front',\n",
       " 'front',\n",
       " 'front',\n",
       " 'front',\n",
       " 'front',\n",
       " 'side',\n",
       " 'front',\n",
       " 'front',\n",
       " 'front',\n",
       " 'front',\n",
       " 'front',\n",
       " 'upwards',\n",
       " 'upwards',\n",
       " 'front',\n",
       " 'side',\n",
       " 'front',\n",
       " 'front',\n",
       " 'front',\n",
       " 'front',\n",
       " 'side',\n",
       " 'upwards',\n",
       " 'front',\n",
       " 'front',\n",
       " 'upwards',\n",
       " 'front',\n",
       " 'front',\n",
       " 'front',\n",
       " 'front',\n",
       " 'front',\n",
       " 'upwards',\n",
       " 'front',\n",
       " 'front',\n",
       " 'front',\n",
       " 'front',\n",
       " 'front',\n",
       " 'upwards',\n",
       " 'front',\n",
       " 'front',\n",
       " 'front',\n",
       " 'front',\n",
       " 'front',\n",
       " 'front',\n",
       " 'front',\n",
       " 'front',\n",
       " 'front',\n",
       " 'front',\n",
       " 'front',\n",
       " 'front',\n",
       " 'front',\n",
       " 'front',\n",
       " 'front',\n",
       " 'front',\n",
       " 'front',\n",
       " 'front',\n",
       " 'front',\n",
       " 'front',\n",
       " 'upwards',\n",
       " 'upwards',\n",
       " 'front',\n",
       " 'front',\n",
       " 'front',\n",
       " 'front',\n",
       " 'front',\n",
       " 'front',\n",
       " 'upwards',\n",
       " 'front',\n",
       " 'upwards',\n",
       " 'front',\n",
       " 'side',\n",
       " 'side']"
      ]
     },
     "execution_count": 30,
     "metadata": {},
     "output_type": "execute_result"
    }
   ],
   "source": [
    "predictFrame"
   ]
  },
  {
   "cell_type": "code",
   "execution_count": 31,
   "metadata": {},
   "outputs": [
    {
     "data": {
      "text/plain": [
       "'front'"
      ]
     },
     "execution_count": 31,
     "metadata": {},
     "output_type": "execute_result"
    }
   ],
   "source": [
    "#most labels say:\n",
    "s.mode(predictFrame)[0][0]"
   ]
  },
  {
   "cell_type": "code",
   "execution_count": 32,
   "metadata": {},
   "outputs": [
    {
     "name": "stdout",
     "output_type": "stream",
     "text": [
      "correct:  193 false:  47\n"
     ]
    }
   ],
   "source": [
    "# checking predicted and actual frames labels which dont match\n",
    "counterA = 0\n",
    "counterB = 0\n",
    "for i in range(0, len(predictFrame)):\n",
    "    if predictFrame[i] == 'front':\n",
    "        counterA +=1\n",
    "    else:\n",
    "        counterB +=1 \n",
    "print('correct: ', counterA, 'false: ',counterB)"
   ]
  },
  {
   "cell_type": "code",
   "execution_count": null,
   "metadata": {},
   "outputs": [],
   "source": []
  }
 ],
 "metadata": {
  "kernelspec": {
   "display_name": "Python 3",
   "language": "python",
   "name": "python3"
  },
  "language_info": {
   "codemirror_mode": {
    "name": "ipython",
    "version": 3
   },
   "file_extension": ".py",
   "mimetype": "text/x-python",
   "name": "python",
   "nbconvert_exporter": "python",
   "pygments_lexer": "ipython3",
   "version": "3.8.5"
  }
 },
 "nbformat": 4,
 "nbformat_minor": 2
}
